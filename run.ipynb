{
 "cells": [
  {
   "cell_type": "markdown",
   "metadata": {},
   "source": [
    "## Goal\n",
    "We are going to compare the accuracy results of gender classifiction across different races. Our hypothesis is that minority groups are likely get affected by the advesarial training more than the majority group\n",
    "## Subsample the dataset without unbalancing"
   ]
  },
  {
   "cell_type": "code",
   "execution_count": 293,
   "metadata": {},
   "outputs": [],
   "source": [
    "import UKTFACE as U\n",
    "U.make_csv(\"UTKFace\",\"utkface.csv\")\n",
    "import pandas as pd\n",
    "file=pd.read_csv(\"utkface.csv\")\n",
    "import random\n",
    "index =[i for i in range(len(file))]\n",
    "random.shuffle(index)\n",
    "index = index[:10500]\n",
    "file = file.iloc[index]\n",
    "file.to_csv(\"utkface.csv\",index=False)"
   ]
  },
  {
   "cell_type": "markdown",
   "metadata": {},
   "source": [
    "## Distribution of the dataset\n",
    "### On the label attribute gender"
   ]
  },
  {
   "cell_type": "code",
   "execution_count": 142,
   "metadata": {},
   "outputs": [
    {
     "data": {
      "text/plain": [
       "<BarContainer object of 2 artists>"
      ]
     },
     "execution_count": 142,
     "metadata": {},
     "output_type": "execute_result"
    },
    {
     "data": {
      "image/png": "[encoded data removed]",
      "text/plain": [
       "<Figure size 432x288 with 1 Axes>"
      ]
     },
     "metadata": {
      "needs_background": "light"
     },
     "output_type": "display_data"
    }
   ],
   "source": [
    "import matplotlib.pyplot as plt \n",
    "values = np.unique(file.gender,return_counts = True)\n",
    "plt.bar([\"Male\",\"Female\"], values[1])"
   ]
  },
  {
   "cell_type": "markdown",
   "metadata": {},
   "source": [
    "## On the race attribute"
   ]
  },
  {
   "cell_type": "code",
   "execution_count": 295,
   "metadata": {},
   "outputs": [
    {
     "data": {
      "text/plain": [
       "<BarContainer object of 5 artists>"
      ]
     },
     "execution_count": 295,
     "metadata": {},
     "output_type": "execute_result"
    },
    {
     "data": {
      "image/png": "[encoded data removed]",
      "text/plain": [
       "<Figure size 432x288 with 1 Axes>"
      ]
     },
     "metadata": {
      "needs_background": "light"
     },
     "output_type": "display_data"
    }
   ],
   "source": [
    "values = np.unique(file.race,return_counts = True)\n",
    "plt.bar([ \"White\", \"Black\", \"Asian\", \"Indian\",\"Others\"], values[1])"
   ]
  },
  {
   "cell_type": "code",
   "execution_count": 296,
   "metadata": {},
   "outputs": [],
   "source": [
    "## create dataset\n",
    "import torch\n",
    "from torch import optim, nn\n",
    "from torch.utils.data import Dataset, DataLoader, random_split\n",
    "import torchvision.models as models\n",
    "from UKTFACE import UKTFace\n",
    "import UKTFACE as U\n",
    "from collections import OrderedDict\n",
    "import matplotlib.pyplot as plt\n",
    "import numpy as np\n",
    "from PIL import Image\n",
    "from art.attacks import FastGradientMethod\n",
    "from art.classifiers import PyTorchClassifier\n",
    "from art.data_generators import PyTorchDataGenerator\n",
    "\n",
    "from art.defences import AdversarialTrainer\n",
    "# switch device to gpu if available\n",
    "device = torch.device(\"cuda:0\" if torch.cuda.is_available() else \"cpu\")\n",
    "\n",
    "# Get dataset with gender labels\n",
    "uktface = UKTFace('utkface.csv', 'UTKFace', labels='gender')\n",
    "\n",
    "# To split training, validation data\n",
    "l = uktface.__len__()\n",
    "training_size = int(np.ceil(l * 0.7))\n",
    "validation_size = int(np.ceil(l * 0.3))\n",
    "train_data, val_data = random_split(uktface, [training_size, validation_size])\n",
    "\n",
    "# to use a data loader\n",
    "train_loader = DataLoader(train_data, batch_size=10, shuffle=False)\n",
    "val_loader = DataLoader(val_data, batch_size=1, shuffle=False)\n",
    "\n",
    "## convert dataloader into datagenerator to make the wrap batch training possible\n",
    "from art.data_generators import PyTorchDataGenerator\n",
    "train_generator = PyTorchDataGenerator(train_loader, len(train_data), 10)"
   ]
  },
  {
   "cell_type": "markdown",
   "metadata": {},
   "source": [
    "## Baseline Model"
   ]
  },
  {
   "cell_type": "code",
   "execution_count": 297,
   "metadata": {},
   "outputs": [],
   "source": [
    "# set up our baseline classifier\n",
    "min_pixel_value = 0\n",
    "max_pixel_value = 1\n",
    "\n",
    "model = models.resnet18(pretrained=True)\n",
    "# Freeze the parameters\n",
    "for param in model.parameters():\n",
    "    param.requires_grad = False\n",
    "    \n",
    "fc = nn.Sequential(OrderedDict([\n",
    "    ('fc1', nn.Linear(512, 300)),\n",
    "    ('relu', nn.ReLU()),\n",
    "    ('fc2', nn.Linear(300, 2)),\n",
    "    ('output', nn.LogSoftmax(dim=1))\n",
    "]))\n",
    "\n",
    "model.fc = fc\n",
    "model.to(device)\n",
    "\n",
    "optimizer = optim.Adam(model.fc.parameters(), lr=0.0001)\n",
    "criterion = nn.NLLLoss()\n",
    "\n",
    "classifier = PyTorchClassifier(\n",
    "    model=model.train(),\n",
    "    clip_values=(min_pixel_value, max_pixel_value),\n",
    "    loss=criterion,\n",
    "    optimizer=optimizer,\n",
    "    input_shape=(3, 224, 224),\n",
    "    nb_classes=2,\n",
    ")\n",
    "\n",
    "\n",
    "## Baseline model training\n",
    "classifier.fit_generator(train_generator, nb_epochs=20)\n",
    "filename_pth = 'ckpt_resnet18_gender.pth'\n",
    "classifier.save(filename_pth,\"models\")"
   ]
  },
  {
   "cell_type": "markdown",
   "metadata": {},
   "source": [
    "## Storing the Result"
   ]
  },
  {
   "cell_type": "code",
   "execution_count": 298,
   "metadata": {},
   "outputs": [],
   "source": [
    "import torch\n",
    "stat_dic_model = torch.load('models/ckpt_resnet18_gender.pth.model')\n",
    "stat_dic_opt = torch.load('models/ckpt_resnet18_gender.pth.optimizer')\n",
    "optimizer = optim.Adam(model.fc.parameters(), lr=0.0001)\n",
    "criterion = nn.NLLLoss()\n",
    "model = models.resnet18(pretrained=True)\n",
    "# Freeze the parameters\n",
    "for param in model.parameters():\n",
    "    param.requires_grad = False\n",
    "    \n",
    "fc = nn.Sequential(OrderedDict([\n",
    "    ('fc1', nn.Linear(512, 300)),\n",
    "    ('relu', nn.ReLU()),\n",
    "    ('fc2', nn.Linear(300, 2)),\n",
    "    ('output', nn.LogSoftmax(dim=1))\n",
    "]))\n",
    "\n",
    "model.fc = fc\n",
    "model.to(device)\n",
    "\n",
    "model.load_state_dict(stat_dic_model)\n",
    "optimizer.load_state_dict(stat_dic_opt)\n",
    "model.load_state_dict(stat_dic_model)\n",
    "optimizer.load_state_dict(stat_dic_opt)\n",
    "classifier = PyTorchClassifier(\n",
    "    model=model.eval(),\n",
    "    clip_values=(min_pixel_value, max_pixel_value),\n",
    "    loss=criterion,\n",
    "    optimizer=optimizer,\n",
    "    input_shape=(3, 224, 224),\n",
    "    nb_classes=2,\n",
    ")\n",
    "# Step 5: Compare the results \n",
    "dataset = val_loader.dataset.dataset\n",
    "outputs = []\n",
    "race = []\n",
    "expected = [] \n",
    "index = val_loader.dataset.indices\n",
    "outputs_ad = []\n",
    "for n, (data, label) in enumerate(val_loader):\n",
    "    i = index[n]\n",
    "    race.extend([dataset.get_race(i).item()])\n",
    "    expected.extend(np.array(np.argmax(label,axis=1)))\n",
    "    \n",
    "    output=adclassifier.predict(data)\n",
    "    outputs.extend(np.argmax(output, axis=1))\n",
    "result = sum(np.array(outputs) == np.array(expected))/len(expected)\n",
    "correct = np.array(race)[np.array(outputs) == np.array(expected)]\n",
    "correct = np.unique(correct,return_counts=True)\n",
    "total = np.unique(race, return_counts=True)\n",
    "result_by_race=correct[1]/total[1]"
   ]
  },
  {
   "cell_type": "markdown",
   "metadata": {},
   "source": [
    "## Adversarial Model\n",
    "### Training"
   ]
  },
  {
   "cell_type": "code",
   "execution_count": 299,
   "metadata": {},
   "outputs": [],
   "source": [
    "model2 = models.resnet18(pretrained=True)\n",
    "\n",
    "# Freeze the parameters\n",
    "for param in model2.parameters():\n",
    "    param.requires_grad = False\n",
    "    \n",
    "model2.fc = fc\n",
    "model2.to(device)\n",
    "\n",
    "optimizerad = optim.Adam(model.fc.parameters(), lr=0.0001)\n",
    "criterionad = nn.NLLLoss()\n",
    "\n",
    "## Defence model training\n",
    "classifier2 = PyTorchClassifier(\n",
    "    model=model2.train(),\n",
    "    clip_values=(min_pixel_value, max_pixel_value),\n",
    "    loss=criterionad,\n",
    "    optimizer=optimizerad,\n",
    "    input_shape=(3, 224, 224),\n",
    "    nb_classes=2,\n",
    ")\n",
    "attack = FastGradientMethod(classifier=classifier, eps=0.1)\n",
    "adclassifier = AdversarialTrainer(classifier2, attack, ratio=0.5)\n",
    "## Defence model training\n",
    "adclassifier.fit_generator(train_generator,nb_epochs=20)\n",
    "filename_pth = 'ckpt_resnet18_gender_defence.pth'\n",
    "#adclassifier.classifier.save(filename_pth,\"models\")\n"
   ]
  },
  {
   "cell_type": "markdown",
   "metadata": {},
   "source": [
    "### Storing the result"
   ]
  },
  {
   "cell_type": "code",
   "execution_count": 300,
   "metadata": {},
   "outputs": [],
   "source": [
    "import torch\n",
    "stat_dic_model_ad = torch.load('models/ckpt_resnet18_gender_defence.pth.model')\n",
    "stat_dic_opt_ad = torch.load('models/ckpt_resnet18_gender_defence.pth.optimizer')\n",
    "optimizer2 = optim.Adam(model.fc.parameters(), lr=0.0001)\n",
    "criterion = nn.NLLLoss()\n",
    "model2 = models.resnet18(pretrained=True)\n",
    "# Freeze the parameters\n",
    "for param in model.parameters():\n",
    "    param.requires_grad = False\n",
    "    \n",
    "fc = nn.Sequential(OrderedDict([\n",
    "    ('fc1', nn.Linear(512, 300)),\n",
    "    ('relu', nn.ReLU()),\n",
    "    ('fc2', nn.Linear(300, 2)),\n",
    "    ('output', nn.LogSoftmax(dim=1))\n",
    "]))\n",
    "\n",
    "model2.fc = fc\n",
    "model2.to(device)\n",
    "\n",
    "model2.load_state_dict(stat_dic_model_ad)\n",
    "optimizer2.load_state_dict(stat_dic_opt_ad)\n",
    "model2.load_state_dict(stat_dic_model)\n",
    "optimizer2.load_state_dict(stat_dic_opt)\n",
    "adclassifier = PyTorchClassifier(\n",
    "    model=model2.eval(),\n",
    "    clip_values=(min_pixel_value, max_pixel_value),\n",
    "    loss=criterion,\n",
    "    optimizer=optimizer2,\n",
    "    input_shape=(3, 224, 224),\n",
    "    nb_classes=2,\n",
    ")\n",
    "# Step 5: Compare the results \n",
    "dataset = val_loader.dataset.dataset\n",
    "outputs = []\n",
    "race = []\n",
    "expected = [] \n",
    "index = val_loader.dataset.indices\n",
    "outputs_ad = []\n",
    "for n, (data, label) in enumerate(val_loader):\n",
    "    i = index[n]\n",
    "    race.extend([dataset.get_race(i).item()])\n",
    "    expected.extend(np.array(np.argmax(label,axis=1)))\n",
    "    output=adclassifier.predict(data)\n",
    "    outputs.extend(np.argmax(output, axis=1))\n",
    "resultad = sum(np.array(outputs) == np.array(expected))/len(expected)\n",
    "correctad = np.array(race)[np.array(outputs) == np.array(expected)]\n",
    "correctad = np.unique(correctad,return_counts=True)\n",
    "total = np.unique(race, return_counts=True)\n",
    "result_by_race_ad = correctad[1]/total[1]"
   ]
  },
  {
   "cell_type": "code",
   "execution_count": 329,
   "metadata": {},
   "outputs": [
    {
     "name": "stdout",
     "output_type": "stream",
     "text": [
      "Adversarial\n",
      "Out of sample accuracy of classification for each race\n",
      "white : 0.809\n",
      "black : 0.812\n",
      "asian : 0.694\n",
      "indian : 0.814\n",
      "others : 0.824\n"
     ]
    }
   ],
   "source": [
    "print(\"Adversarial\")\n",
    "print(\"Out of sample accuracy of classification for each race\")\n",
    "classes = [\"white\", \"black\",\"asian\",'indian','others']\n",
    "for i in range(len(classes)):\n",
    "    print(\"%s : %.3f\"%(classes[i],result_by_race_ad[i]))"
   ]
  },
  {
   "cell_type": "code",
   "execution_count": 328,
   "metadata": {},
   "outputs": [
    {
     "name": "stdout",
     "output_type": "stream",
     "text": [
      "Baseline\n",
      "Out of sample accuracy of classification for each race\n",
      "white : 0.667\n",
      "black : 0.605\n",
      "asian : 0.681\n",
      "indian : 0.731\n",
      "others : 0.633\n"
     ]
    }
   ],
   "source": [
    "print(\"Baseline\")\n",
    "print(\"Out of sample accuracy of classification for each race\")\n",
    "classes = [\"white\", \"black\",\"asian\",'indian','others']\n",
    "for i in range(len(classes)):\n",
    "    print(\"%s : %.3f\"%(classes[i],result_by_race[i]))"
   ]
  },
  {
   "cell_type": "code",
   "execution_count": null,
   "metadata": {},
   "outputs": [],
   "source": []
  },
  {
   "cell_type": "code",
   "execution_count": null,
   "metadata": {},
   "outputs": [],
   "source": []
  },
  {
   "cell_type": "code",
   "execution_count": null,
   "metadata": {},
   "outputs": [],
   "source": []
  },
  {
   "cell_type": "code",
   "execution_count": null,
   "metadata": {},
   "outputs": [],
   "source": []
  },
  {
   "cell_type": "code",
   "execution_count": null,
   "metadata": {},
   "outputs": [],
   "source": []
  },
  {
   "cell_type": "code",
   "execution_count": null,
   "metadata": {},
   "outputs": [],
   "source": []
  },
  {
   "cell_type": "raw",
   "metadata": {},
   "source": []
  },
  {
   "cell_type": "code",
   "execution_count": null,
   "metadata": {},
   "outputs": [],
   "source": []
  },
  {
   "cell_type": "code",
   "execution_count": null,
   "metadata": {},
   "outputs": [],
   "source": []
  }
 ],
 "metadata": {
  "kernelspec": {
   "display_name": "Python 3",
   "language": "python",
   "name": "python3"
  },
  "language_info": {
   "codemirror_mode": {
    "name": "ipython",
    "version": 3
   },
   "file_extension": ".py",
   "mimetype": "text/x-python",
   "name": "python",
   "nbconvert_exporter": "python",
   "pygments_lexer": "ipython3",
   "version": "3.7.6"
  }
 },
 "nbformat": 4,
 "nbformat_minor": 4
}
