{
 "cells": [
  {
   "cell_type": "markdown",
   "metadata": {
    "colab_type": "text",
    "id": "ie_CJVhOA1Of"
   },
   "source": [
    "## Goal\n",
    "We are going to compare the accuracy results of gender classifiction across different races. Our original hypothesis was that minority groups are likely get affected by the advesarial training more than the majority group.  This did not prove true in the case of the original dataset.  Next we will run the same training in a severely imbalanced dataset.\n",
    "## Subsample the dataset with imbalancing\n",
    "We imbalance the dataset, by reducing it to only two race classes, 'White' and 'Black', with 'Black' as the minority subgroup (500 samples) and 'White' as the majority (10,000 samples).  The imbalanced dataset should still be balanced by gender and age.  "
   ]
  },
  {
   "cell_type": "code",
   "execution_count": 1,
   "metadata": {
    "colab": {},
    "colab_type": "code",
    "id": "rBlyeswbEuCd"
   },
   "outputs": [],
   "source": [
    "import UKTFACE as U\n",
    "import pandas as pd\n",
    "import numpy as np\n",
    "\n",
    "subgroup_name = 1\n",
    "subgroup_size = 500\n",
    "majority_size = 10000\n",
    "csv_file = 'utkface.csv'\n",
    "U.make_csv(\"UTKFace\",csv_file)\n",
    "U.imbalance_data(csv_file, subgroup_name, subgroup_size, majority_size)\n",
    "imbalanced_file=pd.read_csv(\"uktface_imbalanced.csv\")\n",
    "\n",
    "file=pd.read_csv(\"utkface.csv\")\n",
    "import random\n",
    "index =[i for i in range(len(file))]\n",
    "random.shuffle(index)\n",
    "index = index[:10500]\n",
    "file = file.iloc[index]\n",
    "file.to_csv(\"utkface.csv\",index=False)"
   ]
  },
  {
   "cell_type": "markdown",
   "metadata": {
    "colab_type": "text",
    "id": "Vm8cdObuA1Ox"
   },
   "source": [
    "## Original vs Imbalanced Distribution of the dataset\n",
    "### On the label attribute gender"
   ]
  },
  {
   "cell_type": "code",
   "execution_count": 2,
   "metadata": {
    "colab": {},
    "colab_type": "code",
    "id": "mHDC--iKA1Oy",
    "outputId": "434b9cd5-f74b-4bd8-ce1c-09dec8ce38e4"
   },
   "outputs": [
    {
     "data": {
      "text/plain": [
       "<BarContainer object of 2 artists>"
      ]
     },
     "execution_count": 2,
     "metadata": {},
     "output_type": "execute_result"
    },
    {
     "data": {
      "image/png": "[encoded data removed]",
      "text/plain": [
       "<Figure size 432x288 with 2 Axes>"
      ]
     },
     "metadata": {
      "needs_background": "light"
     },
     "output_type": "display_data"
    }
   ],
   "source": [
    "import matplotlib.pyplot as plt \n",
    "values = np.unique(file.gender,return_counts = True)\n",
    "imb_values = np.unique(imbalanced_file.gender,return_counts = True)\n",
    "fig, (ax1, ax2) = plt.subplots(1, 2, sharey=True)\n",
    "ax1.set_title('Original')\n",
    "ax2.set_title('Imbalanced')\n",
    "ax1.bar([\"Male\",\"Female\"], values[1])\n",
    "ax2.bar([\"Male\",\"Female\"], imb_values[1])\n"
   ]
  },
  {
   "cell_type": "markdown",
   "metadata": {
    "colab_type": "text",
    "id": "-meM_rWLA1PE"
   },
   "source": [
    "## On the race attribute"
   ]
  },
  {
   "cell_type": "code",
   "execution_count": 3,
   "metadata": {
    "colab": {},
    "colab_type": "code",
    "id": "7bgdOSAGA1PG",
    "outputId": "9e952037-f854-47cd-8347-e54b59f62ae5"
   },
   "outputs": [
    {
     "data": {
      "text/plain": [
       "<BarContainer object of 5 artists>"
      ]
     },
     "execution_count": 3,
     "metadata": {},
     "output_type": "execute_result"
    },
    {
     "data": {
      "image/png": "[encoded data removed]",
      "text/plain": [
       "<Figure size 432x288 with 2 Axes>"
      ]
     },
     "metadata": {
      "needs_background": "light"
     },
     "output_type": "display_data"
    }
   ],
   "source": [
    "labels = [ \"White\", \"Black\", \"Asian\", \"Indian\",\"Others\"]\n",
    "values = np.unique(file.race,return_counts = True)[1]\n",
    "temp_values = np.unique(imbalanced_file.race,return_counts = True)\n",
    "imb_values =list(temp_values[1])\n",
    "for i in range(len(labels)):\n",
    "    if i not in temp_values[0]:\n",
    "        imb_values.append(0)\n",
    "\n",
    "fig, (ax1, ax2) = plt.subplots(1, 2, sharey=True)\n",
    "ax1.set_title('Original')\n",
    "ax2.set_title('Imbalanced')\n",
    "ax1.bar(labels, values)\n",
    "ax2.bar(labels, imb_values)\n"
   ]
  },
  {
   "cell_type": "code",
   "execution_count": 4,
   "metadata": {
    "colab": {},
    "colab_type": "code",
    "id": "2Q7yI3Nta4nu"
   },
   "outputs": [],
   "source": [
    "## On the age attribute"
   ]
  },
  {
   "cell_type": "code",
   "execution_count": 5,
   "metadata": {
    "colab": {},
    "colab_type": "code",
    "id": "HukaofX1a4nw",
    "outputId": "49ce746c-326b-4bba-99f1-ae6e1610d379"
   },
   "outputs": [
    {
     "data": {
      "text/plain": [
       "(array([ 737.,  607.,  674.,  475., 1776., 1306.,  933.,  533.,  704.,\n",
       "         899.,  512.,  406.,  363.,  229.,  208.,  100.,   18.,   15.,\n",
       "           2.,    3.]),\n",
       " array([  1.  ,   6.75,  12.5 ,  18.25,  24.  ,  29.75,  35.5 ,  41.25,\n",
       "         47.  ,  52.75,  58.5 ,  64.25,  70.  ,  75.75,  81.5 ,  87.25,\n",
       "         93.  ,  98.75, 104.5 , 110.25, 116.  ]),\n",
       " <a list of 20 Patch objects>)"
      ]
     },
     "execution_count": 5,
     "metadata": {},
     "output_type": "execute_result"
    },
    {
     "data": {
      "image/png": "[encoded data removed]",
      "text/plain": [
       "<Figure size 432x288 with 2 Axes>"
      ]
     },
     "metadata": {
      "needs_background": "light"
     },
     "output_type": "display_data"
    }
   ],
   "source": [
    "values = [file.age]\n",
    "imb_values = [imbalanced_file.age]\n",
    "\n",
    "fig, (ax1, ax2) = plt.subplots(1, 2, sharey=True)\n",
    "ax1.set_title('Original')\n",
    "ax2.set_title('Imbalanced')\n",
    "\n",
    "ax1.hist(values, bins=20)\n",
    "ax2.hist(imb_values, bins=20)\n",
    "\n"
   ]
  },
  {
   "cell_type": "code",
   "execution_count": 21,
   "metadata": {
    "colab": {},
    "colab_type": "code",
    "id": "WraLF79SA1PP"
   },
   "outputs": [],
   "source": [
    "## create dataset\n",
    "import torch\n",
    "from torch import optim, nn\n",
    "from torch.utils.data import Dataset, DataLoader, random_split\n",
    "import torchvision.models as models\n",
    "from UKTFACE import UKTFace\n",
    "import UKTFACE as U\n",
    "from collections import OrderedDict\n",
    "import matplotlib.pyplot as plt\n",
    "import numpy as np\n",
    "from PIL import Image\n",
    "from art.attacks import FastGradientMethod\n",
    "from art.classifiers import PyTorchClassifier\n",
    "from art.data_generators import PyTorchDataGenerator\n",
    "\n",
    "from art.defences import AdversarialTrainer\n",
    "# switch device to gpu if available\n",
    "device = torch.device(\"cuda:0\" if torch.cuda.is_available() else \"cpu\")\n",
    "\n",
    "# Get dataset with gender labels\n",
    "uktface = UKTFace('uktface_imbalanced.csv', 'UTKFace', labels='gender')\n",
    "\n",
    "# To split training, validation data\n",
    "l = uktface.__len__()\n",
    "training_size = int(np.ceil(l * 0.7))\n",
    "validation_size = int(np.ceil(l * 0.3))\n",
    "train_data, val_data = random_split(uktface, [training_size, validation_size])\n",
    "\n",
    "# to use a data loader\n",
    "train_loader = DataLoader(train_data, batch_size=10, shuffle=False)\n",
    "val_loader = DataLoader(val_data, batch_size=1, shuffle=False)\n",
    "\n",
    "## convert dataloader into datagenerator to make the wrap batch training possible\n",
    "from art.data_generators import PyTorchDataGenerator\n",
    "train_generator = PyTorchDataGenerator(train_loader, len(train_data), 10)"
   ]
  },
  {
   "cell_type": "code",
   "execution_count": 8,
   "metadata": {},
   "outputs": [],
   "source": [
    "test = pd.read_csv(\"uktface_imbalanced.csv\") "
   ]
  },
  {
   "cell_type": "code",
   "execution_count": null,
   "metadata": {},
   "outputs": [],
   "source": []
  },
  {
   "cell_type": "markdown",
   "metadata": {
    "colab_type": "text",
    "id": "jVmocTcKA1PZ"
   },
   "source": [
    "## Baseline Model"
   ]
  },
  {
   "cell_type": "code",
   "execution_count": 37,
   "metadata": {
    "colab": {},
    "colab_type": "code",
    "id": "LLpOenQbA1Pb"
   },
   "outputs": [],
   "source": [
    "# set up our baseline classifier\n",
    "min_pixel_value = -2.5\n",
    "max_pixel_value = 2.5\n",
    "\n",
    "model = models.resnet18(pretrained=True)\n",
    "# Freeze the parameters\n",
    "for param in model.parameters():\n",
    "    param.requires_grad = False\n",
    "    \n",
    "fc = nn.Sequential(OrderedDict([\n",
    "    ('fc1', nn.Linear(512, 300)),\n",
    "    ('relu', nn.ReLU()),\n",
    "    ('fc2', nn.Linear(300, 2)),\n",
    "    ('output', nn.LogSoftmax(dim=1))\n",
    "]))\n",
    "\n",
    "model.fc = fc\n",
    "model.to(device)\n",
    "\n",
    "optimizer = optim.Adam(model.fc.parameters(), lr=0.0001)\n",
    "criterion = nn.NLLLoss()\n",
    "\n",
    "classifier = PyTorchClassifier(\n",
    "    model=model.train(),\n",
    "    clip_values=(min_pixel_value, max_pixel_value),\n",
    "    loss=criterion,\n",
    "    optimizer=optimizer,\n",
    "    input_shape=(3, 224, 224),\n",
    "    nb_classes=2,\n",
    ")\n",
    "\n",
    "\n",
    "## Baseline model training\n",
    "classifier.fit_generator(train_generator, nb_epochs=30)\n",
    "filename_pth = 'ckpt_resnet18_gender_blackImbalanced.pth'\n",
    "classifier.save(filename_pth,\"models\")"
   ]
  },
  {
   "cell_type": "code",
   "execution_count": null,
   "metadata": {},
   "outputs": [],
   "source": [
    "import torch\n",
    "stat_dic_model = torch.load('models/ckpt_resnet18_gender_blackImbalanced.pth.model')\n",
    "stat_dic_opt = torch.load('models/ckpt_resnet18_gender_blackImbalanced.pth.optimizer')\n",
    "optimizer = optim.Adam(model.fc.parameters(), lr=0.0001)\n",
    "criterion = nn.NLLLoss()\n",
    "model = models.resnet18(pretrained=True)\n",
    "# Freeze the parameters\n",
    "for param in model.parameters():\n",
    "    param.requires_grad = False\n",
    "    \n",
    "fc = nn.Sequential(OrderedDict([\n",
    "    ('fc1', nn.Linear(512, 300)),\n",
    "    ('relu', nn.ReLU()),\n",
    "    ('fc2', nn.Linear(300, 2)),\n",
    "    ('output', nn.LogSoftmax(dim=1))\n",
    "]))\n",
    "\n",
    "model.fc = fc\n",
    "model.to(device)\n",
    "\n",
    "model.load_state_dict(stat_dic_model)\n",
    "optimizer.load_state_dict(stat_dic_opt)\n",
    "model.load_state_dict(stat_dic_model)\n",
    "optimizer.load_state_dict(stat_dic_opt)\n",
    "classifier = PyTorchClassifier(\n",
    "    model=model.eval(),\n",
    "    clip_values=(min_pixel_value, max_pixel_value),\n",
    "    loss=criterion,\n",
    "    optimizer=optimizer,\n",
    "    input_shape=(3, 224, 224),\n",
    "    nb_classes=2,\n",
    ")"
   ]
  },
  {
   "cell_type": "code",
   "execution_count": 38,
   "metadata": {},
   "outputs": [],
   "source": [
    "classifier = PyTorchClassifier(\n",
    "    model=model.eval(),\n",
    "    clip_values=(min_pixel_value, max_pixel_value),\n",
    "    loss=criterion,\n",
    "    optimizer=optimizer,\n",
    "    input_shape=(3, 224, 224),\n",
    "    nb_classes=2,\n",
    ")"
   ]
  },
  {
   "cell_type": "markdown",
   "metadata": {
    "colab_type": "text",
    "id": "sCp8-PfyA1Pl"
   },
   "source": [
    "## Storing the Result"
   ]
  },
  {
   "cell_type": "code",
   "execution_count": 39,
   "metadata": {
    "colab": {},
    "colab_type": "code",
    "id": "3d16p7aTA1Pn"
   },
   "outputs": [],
   "source": [
    "\n",
    "# Step 5: Compare the results \n",
    "dataset = val_loader.dataset.dataset\n",
    "outputs = []\n",
    "race = []\n",
    "expected = [] \n",
    "index = val_loader.dataset.indices\n",
    "outputs_ad = []\n",
    "for n, (data, label) in enumerate(val_loader):\n",
    "    i = index[n]\n",
    "    race.extend([dataset.get_race(i).item()])\n",
    "    expected.extend(np.array(np.argmax(label,axis=1)))\n",
    "    \n",
    "    output=classifier.predict(data)\n",
    "    outputs.extend(np.argmax(output, axis=1))\n",
    "result = sum(np.array(outputs) == np.array(expected))/len(expected)\n",
    "correct = np.array(race)[np.array(outputs) == np.array(expected)]\n",
    "correct = np.unique(correct,return_counts=True)\n",
    "total = np.unique(race, return_counts=True)\n",
    "result_by_race=correct[1]/total[1]"
   ]
  },
  {
   "cell_type": "code",
   "execution_count": null,
   "metadata": {},
   "outputs": [],
   "source": []
  },
  {
   "cell_type": "markdown",
   "metadata": {
    "colab_type": "text",
    "id": "Pv2tuXRnA1Px"
   },
   "source": [
    "## Adversarial Model\n",
    "### Training"
   ]
  },
  {
   "cell_type": "code",
   "execution_count": 41,
   "metadata": {
    "colab": {},
    "colab_type": "code",
    "id": "06wTaN5vA1P2"
   },
   "outputs": [],
   "source": [
    "model2 = models.resnet18(pretrained=True)\n",
    "\n",
    "# Freeze the parameters\n",
    "for param in model2.parameters():\n",
    "    param.requires_grad = False\n",
    "    \n",
    "model2.fc = fc\n",
    "model2.to(device)\n",
    "\n",
    "optimizerad = optim.Adam(model.fc.parameters(), lr=0.0001)\n",
    "criterionad = nn.NLLLoss()\n",
    "\n",
    "## Defence model training\n",
    "classifier2 = PyTorchClassifier(\n",
    "    model=model2.train(),\n",
    "    clip_values=(min_pixel_value, max_pixel_value),\n",
    "    loss=criterionad,\n",
    "    optimizer=optimizerad,\n",
    "    input_shape=(3, 224, 224),\n",
    "    nb_classes=2,\n",
    ")\n",
    "attack = FastGradientMethod(classifier=classifier, eps=0.1)\n",
    "adclassifier = AdversarialTrainer(classifier2, attack, ratio=0.5)\n",
    "## Defence model training\n",
    "adclassifier.fit_generator(train_generator,nb_epochs=20)\n",
    "filename_pth = 'ckpt_resnet18_gender_defence_imbalance_black.pth'\n",
    "adclassifier.classifier.save(filename_pth,\"models\")\n"
   ]
  },
  {
   "cell_type": "code",
   "execution_count": null,
   "metadata": {},
   "outputs": [],
   "source": [
    "## loading the model\n",
    "import torch\n",
    "stat_dic_model_ad = torch.load('models/ckpt_resnet18_gender_defence_imbalance_black.pth.model')\n",
    "stat_dic_opt_ad = torch.load('models/ckpt_resnet18_gender_defence_imbalance_black.pth.optimizer')\n",
    "optimizer2 = optim.Adam(model.fc.parameters(), lr=0.0001)\n",
    "criterion = nn.NLLLoss()\n",
    "model2 = models.resnet18(pretrained=True)\n",
    "# Freeze the parameters\n",
    "for param in model.parameters():\n",
    "    param.requires_grad = False\n",
    "    \n",
    "fc = nn.Sequential(OrderedDict([\n",
    "    ('fc1', nn.Linear(512, 300)),\n",
    "    ('relu', nn.ReLU()),\n",
    "    ('fc2', nn.Linear(300, 2)),\n",
    "    ('output', nn.LogSoftmax(dim=1))\n",
    "]))\n",
    "\n",
    "model2.fc = fc\n",
    "model2.to(device)\n",
    "\n",
    "model2.load_state_dict(stat_dic_model_ad)\n",
    "optimizer2.load_state_dict(stat_dic_opt_ad)\n",
    "#model2.load_state_dict(stat_dic_model)\n",
    "#optimizer2.load_state_dict(stat_dic_opt)\n",
    "adclassifier = PyTorchClassifier(\n",
    "    model=model2.eval(),\n",
    "    clip_values=(min_pixel_value, max_pixel_value),\n",
    "    loss=criterion,\n",
    "    optimizer=optimizer2,\n",
    "    input_shape=(3, 224, 224),\n",
    "    nb_classes=2,\n",
    ")"
   ]
  },
  {
   "cell_type": "code",
   "execution_count": 43,
   "metadata": {},
   "outputs": [],
   "source": [
    "adclassifier = PyTorchClassifier(\n",
    "    model=model2.eval(),\n",
    "    clip_values=(min_pixel_value, max_pixel_value),\n",
    "    loss=criterion,\n",
    "    optimizer=optimizerad,\n",
    "    input_shape=(3, 224, 224),\n",
    "    nb_classes=2,\n",
    ")"
   ]
  },
  {
   "cell_type": "markdown",
   "metadata": {
    "colab_type": "text",
    "id": "UnF7RmDhA1P-"
   },
   "source": [
    "### Storing the result"
   ]
  },
  {
   "cell_type": "code",
   "execution_count": 44,
   "metadata": {
    "colab": {},
    "colab_type": "code",
    "id": "1rfPg2TzA1QA"
   },
   "outputs": [],
   "source": [
    "# Step 5: Compare the results \n",
    "dataset = val_loader.dataset.dataset\n",
    "outputs = []\n",
    "race = []\n",
    "expected = [] \n",
    "index = val_loader.dataset.indices\n",
    "outputs_ad = []\n",
    "for n, (data, label) in enumerate(val_loader):\n",
    "    i = index[n]\n",
    "    race.extend([dataset.get_race(i).item()])\n",
    "    expected.extend(np.array(np.argmax(label,axis=1)))\n",
    "    output=adclassifier.predict(data)\n",
    "    outputs.extend(np.argmax(output, axis=1))\n",
    "resultad = sum(np.array(outputs) == np.array(expected))/len(expected)\n",
    "correctad = np.array(race)[np.array(outputs) == np.array(expected)]\n",
    "correctad = np.unique(correctad,return_counts=True)\n",
    "total = np.unique(race, return_counts=True)\n",
    "result_by_race_ad = correctad[1]/total[1]"
   ]
  },
  {
   "cell_type": "code",
   "execution_count": null,
   "metadata": {},
   "outputs": [],
   "source": []
  },
  {
   "cell_type": "code",
   "execution_count": null,
   "metadata": {},
   "outputs": [],
   "source": []
  },
  {
   "cell_type": "code",
   "execution_count": 46,
   "metadata": {
    "colab": {},
    "colab_type": "code",
    "id": "HktkE_f-A1QH",
    "outputId": "30b4646f-7fcc-44f7-da92-f3057804c855"
   },
   "outputs": [
    {
     "name": "stdout",
     "output_type": "stream",
     "text": [
      "Adversarial\n",
      "Out of sample accuracy of classification for each race\n",
      "white : 0.662\n",
      "black : 0.629\n"
     ]
    }
   ],
   "source": [
    "print(\"Adversarial\")\n",
    "print(\"Out of sample accuracy of classification for each race\")\n",
    "classes = [\"white\", \"black\"]\n",
    "for i in range(len(classes)):\n",
    "    print(\"%s : %.3f\"%(classes[i],result_by_race_ad[i]))"
   ]
  },
  {
   "cell_type": "code",
   "execution_count": 47,
   "metadata": {
    "colab": {},
    "colab_type": "code",
    "id": "QECMf_8MA1QO",
    "outputId": "b89b4c6e-db57-486e-9e26-de74604b237e"
   },
   "outputs": [
    {
     "name": "stdout",
     "output_type": "stream",
     "text": [
      "Baseline\n",
      "Out of sample accuracy of classification for each race\n",
      "white : 0.811\n",
      "black : 0.695\n"
     ]
    }
   ],
   "source": [
    "print(\"Baseline\")\n",
    "print(\"Out of sample accuracy of classification for each race\")\n",
    "classes = [\"white\", \"black\"]\n",
    "for i in range(len(classes)):\n",
    "    print(\"%s : %.3f\"%(classes[i],result_by_race[i]))"
   ]
  },
  {
   "cell_type": "code",
   "execution_count": null,
   "metadata": {},
   "outputs": [],
   "source": []
  }
 ],
 "metadata": {
  "colab": {
   "collapsed_sections": [],
   "name": "run_imbalanced.ipynb",
   "provenance": []
  },
  "kernelspec": {
   "display_name": "Python 3",
   "language": "python",
   "name": "python3"
  },
  "language_info": {
   "codemirror_mode": {
    "name": "ipython",
    "version": 3
   },
   "file_extension": ".py",
   "mimetype": "text/x-python",
   "name": "python",
   "nbconvert_exporter": "python",
   "pygments_lexer": "ipython3",
   "version": "3.7.6"
  }
 },
 "nbformat": 4,
 "nbformat_minor": 4
}
